{
 "cells": [
  {
   "cell_type": "code",
   "execution_count": 47,
   "id": "3ac2814b-7b08-4939-bfee-316adc019ed1",
   "metadata": {},
   "outputs": [],
   "source": [
    "import tsplib95\n",
    "import numpy as np\n",
    "problem = tsplib95.load('../data/bays29.tsp')"
   ]
  },
  {
   "cell_type": "code",
   "execution_count": 48,
   "id": "1b6198bc",
   "metadata": {},
   "outputs": [],
   "source": [
    "EVAP_RATE = 0.5 #0.2 or 0.8 seems to be best (see graph)\n",
    "NBR_ANTS = 29\n",
    "#alpha is relative importance of pheromone\n",
    "ALPHA = 1\n",
    "#beta is relative importance heuristic\n",
    "BETA = 5\n",
    "Q = 1.5\n",
    "#Q is the constant used to update the pheromones (Q/L)\n",
    "ITERATIONS = 500\n",
    "np.random.seed(0)\n",
    "\n",
    "DISTANCES = np.array([[problem.get_weight(i, j) for j in range(1, problem.dimension + 1)] for i in range(1, problem.dimension + 1)])\n",
    "DISTANCES[DISTANCES == 0] = 1\n",
    "DISTANCES_POWERED = 1/ np.power(DISTANCES, BETA) \n",
    "pheromones =np.full((DISTANCES.shape), 0.1)"
   ]
  },
  {
   "cell_type": "code",
   "execution_count": 49,
   "id": "f8be7637-f080-469a-8356-15cbcb518a1d",
   "metadata": {},
   "outputs": [
    {
     "name": "stdout",
     "output_type": "stream",
     "text": [
      "5752\n"
     ]
    }
   ],
   "source": [
    "weight = problem.trace_canonical_tour()\n",
    "print(weight)"
   ]
  },
  {
   "cell_type": "code",
   "execution_count": 50,
   "id": "04a9df58",
   "metadata": {},
   "outputs": [
    {
     "data": {
      "text/plain": [
       "(29, 1)"
      ]
     },
     "execution_count": 50,
     "metadata": {},
     "output_type": "execute_result"
    }
   ],
   "source": [
    "visited_cities = np.zeros((NBR_ANTS, 1), int)\n",
    "visited_cities.shape\n"
   ]
  },
  {
   "cell_type": "code",
   "execution_count": 51,
   "id": "0a2612a4",
   "metadata": {},
   "outputs": [
    {
     "data": {
      "text/plain": [
       "(29, 29)"
      ]
     },
     "execution_count": 51,
     "metadata": {},
     "output_type": "execute_result"
    }
   ],
   "source": [
    "cities_to_visit = np.ones((problem.dimension,NBR_ANTS), dtype=int)\n",
    "cities_to_visit[0]= 0\n",
    "cities_to_visit.shape"
   ]
  },
  {
   "cell_type": "code",
   "execution_count": 52,
   "id": "04721801",
   "metadata": {},
   "outputs": [],
   "source": [
    "def get_next_cities(current_cities, cities_to_visit, pheromones):\n",
    "    teta_nues = np.array([  pheromones[city] **ALPHA * cities_to_visit.T[i] * DISTANCES_POWERED[city]  for i,city in enumerate(current_cities) ])\n",
    "    probabilities = teta_nues / teta_nues.sum(axis=1)[:,None]\n",
    "    next_cities = np.array([np.random.choice(teta_nues.shape[1], p=probabilities[i]) for i in range(teta_nues.shape[0])])\n",
    "    return next_cities"
   ]
  },
  {
   "cell_type": "code",
   "execution_count": 53,
   "id": "778f8d58",
   "metadata": {},
   "outputs": [],
   "source": [
    "# each iteration upadate pheromones with\n",
    "# new_pheromone = Q/weight(edge)\n",
    "# pheromone = (1 - EVAP_RATE) * old_pheromone + new_pheromone\n",
    "\n",
    "def update_pheromones(pheromones, current_cities, next_cities):\n",
    "    #evaporate pheromones\n",
    "    pheromones *= EVAP_RATE\n",
    "    #add pheromones to travelled edges\n",
    "    delta_pheromones = Q / DISTANCES[current_cities, next_cities]\n",
    "\n",
    "    pheromones[current_cities, next_cities] += delta_pheromones\n",
    "    pheromones[next_cities, current_cities] += delta_pheromones\n",
    "\n",
    "    return pheromones"
   ]
  },
  {
   "cell_type": "code",
   "execution_count": 54,
   "id": "177ca60b",
   "metadata": {},
   "outputs": [],
   "source": [
    "for _ in range(ITERATIONS) :\n",
    "   # Initialisation, we start at city 0\n",
    "    visited_cities = np.zeros((NBR_ANTS, 1), int)\n",
    "    cities_to_visit = np.ones((problem.dimension,NBR_ANTS), dtype=int)\n",
    "    cities_to_visit[0]= 0\n",
    "    current_cities = np.zeros(NBR_ANTS,dtype=int)\n",
    "\n",
    "    for _ in range(problem.dimension - 1):\n",
    "        next_cities = get_next_cities(current_cities, cities_to_visit, pheromones)\n",
    "        update_pheromones(pheromones, current_cities, next_cities)\n",
    "        current_cities = next_cities\n",
    "        cities_to_visit[current_cities, np.arange(len(current_cities))] = 0\n",
    "        visited_cities = np.append(visited_cities, current_cities.reshape(NBR_ANTS,1), axis=1)\n"
   ]
  },
  {
   "cell_type": "code",
   "execution_count": 55,
   "id": "6519f9d7",
   "metadata": {},
   "outputs": [],
   "source": [
    "def calculate_distance(visited_cities):\n",
    "    distances = np.array([DISTANCES[visited_cities[i], visited_cities[i+1]] for i in range(len(visited_cities)-1)])\n",
    "    return distances.sum(axis=0)\n",
    "\n"
   ]
  },
  {
   "cell_type": "code",
   "execution_count": 56,
   "id": "e2888eb2",
   "metadata": {},
   "outputs": [
    {
     "name": "stdout",
     "output_type": "stream",
     "text": [
      "My tour's length:  2194\n",
      "optimal tour's length:  [2020]\n",
      "[ 1 28  6 12  9  5 26 29  3 17 18 14 22 11 15  4 10 20  2 21 13 16 19 25\n",
      "  7 23  8 24 27]\n",
      "[1, 28, 6, 12, 9, 5, 26, 29, 3, 2, 20, 10, 4, 15, 18, 17, 14, 22, 11, 19, 25, 7, 23, 27, 8, 24, 16, 13, 21]\n"
     ]
    }
   ],
   "source": [
    "solution = tsplib95.load('../data/bays29.opt.tour')\n",
    "print(\"My tour's length: \", calculate_distance(visited_cities[0]))\n",
    "\n",
    "print(\"optimal tour's length: \",problem.trace_tours(solution.tours))\n",
    "\n",
    "visited_cities +=1\n",
    "\n",
    "print(visited_cities[1])\n",
    "\n",
    "print(solution.tours[0])"
   ]
  },
  {
   "cell_type": "code",
   "execution_count": null,
   "id": "9b9b7465",
   "metadata": {},
   "outputs": [],
   "source": []
  }
 ],
 "metadata": {
  "kernelspec": {
   "display_name": "Python 3 (ipykernel)",
   "language": "python",
   "name": "python3"
  },
  "language_info": {
   "codemirror_mode": {
    "name": "ipython",
    "version": 3
   },
   "file_extension": ".py",
   "mimetype": "text/x-python",
   "name": "python",
   "nbconvert_exporter": "python",
   "pygments_lexer": "ipython3",
   "version": "3.11.6"
  }
 },
 "nbformat": 4,
 "nbformat_minor": 5
}
